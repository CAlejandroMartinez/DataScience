{
 "cells": [
  {
   "cell_type": "code",
   "execution_count": 11,
   "id": "c41c7e67-62fa-428c-b844-a5a9bac6d3a3",
   "metadata": {},
   "outputs": [
    {
     "data": {
      "text/html": [
       "\n",
       "        <iframe\n",
       "            width=\"100%\"\n",
       "            height=\"650\"\n",
       "            src=\"http://127.0.0.1:8050/\"\n",
       "            frameborder=\"0\"\n",
       "            allowfullscreen\n",
       "            \n",
       "        ></iframe>\n",
       "        "
      ],
      "text/plain": [
       "<IPython.lib.display.IFrame at 0x1b6cf410550>"
      ]
     },
     "metadata": {},
     "output_type": "display_data"
    }
   ],
   "source": [
    "import pandas as pd\n",
    "import numpy as np\n",
    "import dash\n",
    "from dash import dcc,html,dash_table\n",
    "import plotly.express as px\n",
    "\n",
    "df=pd.read_csv('../files/Ventas.csv')\n",
    "\n",
    "app=dash.Dash(__name__)\n",
    "categorias=[{'label':'All','value':'all'}]\n",
    "for cat in np.unique(df['Categoria']):\n",
    "    categorias.append({'label': cat, 'value': cat})\n",
    "anios=[{'label':'All','value':'all'}]\n",
    "for y in np.unique(df['Año']):\n",
    "    anios.append(({'label':y,'value':y}))\n",
    "\n",
    "app.layout= html.Div(children=[\n",
    "    html.H1(children='Dashboard de Ventas'),\n",
    "    html.Div([\n",
    "        dcc.Dropdown(\n",
    "            id='categoria',\n",
    "            options=categorias,value='all'),\n",
    " #   html.Div(\n",
    "        dcc.Dropdown(\n",
    "            id='anio',\n",
    "            options=anios,value='all')]),\n",
    "    dash_table.DataTable(data=df.to_dict('records'), page_size=10),\n",
    "    dcc.Graph(id='grafico')\n",
    "])\n",
    "@app.callback(\n",
    "    dash.Output('grafico','figure'),\n",
    "    [dash.Input('categoria','value'),dash.Input('anio','value')]\n",
    ")\n",
    "def actualizar_graficoytabla(categoria_sel,anio_sel):\n",
    "    if categoria_sel=='all' and anio_sel=='all':\n",
    "        fig=px.bar(df,x='Semana',y='Ventas',color='Año')\n",
    "        return fig\n",
    "    elif categoria_sel!='all':\n",
    "        if anio_sel=='all':\n",
    "            df_filtrado = df[df['Categoria'] == categoria_sel]\n",
    "            fig = px.bar(df_filtrado, x='Semana', y='Ventas', color='Año')\n",
    "            return fig\n",
    "        else:\n",
    "            df_prefiltrado = df[df['Categoria'] == categoria_sel]\n",
    "            df_filtrado=df_prefiltrado[df_prefiltrado['Año']==anio_sel]\n",
    "            fig = px.bar(df_filtrado, x='Semana', y='Ventas', color='Año')\n",
    "            return fig\n",
    "    elif anio_sel!='all':\n",
    "        df_filtrado = df[df['Año'] == anio_sel]\n",
    "        fig = px.bar(df_filtrado, x='Semana', y='Ventas', color='Año')\n",
    "        return fig\n",
    "\n",
    "if __name__ == '__main__':\n",
    "    app.run_server(debug=True)"
   ]
  },
  {
   "cell_type": "code",
   "execution_count": null,
   "id": "1613da10-3f13-4bde-9e3b-ec5de3f1f0ec",
   "metadata": {},
   "outputs": [],
   "source": []
  }
 ],
 "metadata": {
  "kernelspec": {
   "display_name": "Python 3 (ipykernel)",
   "language": "python",
   "name": "python3"
  },
  "language_info": {
   "codemirror_mode": {
    "name": "ipython",
    "version": 3
   },
   "file_extension": ".py",
   "mimetype": "text/x-python",
   "name": "python",
   "nbconvert_exporter": "python",
   "pygments_lexer": "ipython3",
   "version": "3.11.7"
  }
 },
 "nbformat": 4,
 "nbformat_minor": 5
}
